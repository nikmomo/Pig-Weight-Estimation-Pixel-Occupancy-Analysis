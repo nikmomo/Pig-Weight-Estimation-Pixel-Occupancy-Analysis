{
  "nbformat": 4,
  "nbformat_minor": 0,
  "metadata": {
    "colab": {
      "provenance": []
    },
    "kernelspec": {
      "name": "python3",
      "display_name": "Python 3"
    },
    "language_info": {
      "name": "python"
    }
  },
  "cells": [
    {
      "cell_type": "code",
      "source": [
        "# Mount your Google Drive to this notebook\n",
        "# The purpose is to allow your code to access your files\n",
        "from google.colab import drive\n",
        "drive.mount('/content/drive')"
      ],
      "metadata": {
        "colab": {
          "base_uri": "https://localhost:8080/"
        },
        "id": "u5qgZ5pY7Bf2",
        "outputId": "8a6f5f11-6c1e-4154-fb24-2f0fa1102982"
      },
      "execution_count": 1,
      "outputs": [
        {
          "output_type": "stream",
          "name": "stdout",
          "text": [
            "Mounted at /content/drive\n"
          ]
        }
      ]
    },
    {
      "cell_type": "code",
      "source": [
        "# Change the directory to your own working directory\n",
        "# You code will be able to read and write files in your working directory\n",
        "# TO DO: If needed, edit the 'chdir' line to provide your Google-Drive directory name\n",
        "import os\n",
        "os.chdir('/content/drive/MyDrive/Colab Notebooks/Project Piggy')"
      ],
      "metadata": {
        "id": "l9ktOPAb7JLR"
      },
      "execution_count": 2,
      "outputs": []
    },
    {
      "cell_type": "code",
      "execution_count": 22,
      "metadata": {
        "colab": {
          "base_uri": "https://localhost:8080/"
        },
        "id": "Z7YFhHiZ41NY",
        "outputId": "b4404f6b-a4f2-45f0-d097-25fedf1e2f10"
      },
      "outputs": [
        {
          "output_type": "stream",
          "name": "stdout",
          "text": [
            "Mean Absolute Error: 1.57\n",
            "Mean Absolute Percentage Error: 8.17%\n",
            "Mean Squared Error: 3.8997877227827473\n"
          ]
        }
      ],
      "source": [
        "To Do"
      ]
    }
  ]
}
