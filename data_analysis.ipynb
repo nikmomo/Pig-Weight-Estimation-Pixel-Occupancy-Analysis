{
 "cells": [
  {
   "cell_type": "markdown",
   "metadata": {},
   "source": [
    "# 3. Model Training\n",
    "Train the model HERE"
   ]
  },
  {
   "cell_type": "markdown",
   "metadata": {},
   "source": [
    "TODO HERE"
   ]
  }
 ],
 "metadata": {
  "language_info": {
   "name": "python"
  }
 },
 "nbformat": 4,
 "nbformat_minor": 2
}
import pandas as pd
from sklearn.model_selection import train_test_split
from sklearn.linear_model import LinearRegression
from sklearn.metrics import mean_squared_error

# Load the data
df = pd.read_csv('path_to_your_csv.csv')

# Convert the 'height' and 'weight' columns to numeric values (floats)
df['Height'] = pd.to_numeric(df['mean_height'], errors='coerce')
df['Weight'] = pd.to_numeric(df['weight'], errors='coerce')

# Drop rows with missing values (NaNs)
df.dropna(subset=['Height', 'Weight'], inplace=True)

# Prepare the feature matrix (X) and the target vector (y)
X = df[['Height']].values
y = df['Weight'].values

# Split the data into training and test sets
X_train, X_test, y_train, y_test = train_test_split(X, y, test_size=0.2, random_state=42)

# Create and train the linear regression model
model = LinearRegression()
model.fit(X_train, y_train)

# Predict the weights for the test set
y_pred = model.predict(X_test)

# Calculate the Mean Squared Error
mse = mean_squared_error(y_test, y_pred)
print(f'Mean Squared Error: {mse}')
