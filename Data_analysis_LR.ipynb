{
  "nbformat": 4,
  "nbformat_minor": 0,
  "metadata": {
    "colab": {
      "provenance": []
    },
    "kernelspec": {
      "name": "python3",
      "display_name": "Python 3"
    },
    "language_info": {
      "name": "python"
    }
  },
  "cells": [
    {
      "cell_type": "code",
      "source": [
        "# Mount your Google Drive to this notebook\n",
        "# The purpose is to allow your code to access your files\n",
        "from google.colab import drive\n",
        "drive.mount('/content/drive')"
      ],
      "metadata": {
        "colab": {
          "base_uri": "https://localhost:8080/"
        },
        "id": "u5qgZ5pY7Bf2",
        "outputId": "8a6f5f11-6c1e-4154-fb24-2f0fa1102982"
      },
      "execution_count": 1,
      "outputs": [
        {
          "output_type": "stream",
          "name": "stdout",
          "text": [
            "Mounted at /content/drive\n"
          ]
        }
      ]
    },
    {
      "cell_type": "code",
      "source": [
        "# Change the directory to your own working directory\n",
        "# You code will be able to read and write files in your working directory\n",
        "# TO DO: If needed, edit the 'chdir' line to provide your Google-Drive directory name\n",
        "import os\n",
        "os.chdir('/content/drive/MyDrive/Colab Notebooks/Project Piggy')"
      ],
      "metadata": {
        "id": "l9ktOPAb7JLR"
      },
      "execution_count": 2,
      "outputs": []
    },
    {
      "cell_type": "code",
      "execution_count": 22,
      "metadata": {
        "colab": {
          "base_uri": "https://localhost:8080/"
        },
        "id": "Z7YFhHiZ41NY",
        "outputId": "b4404f6b-a4f2-45f0-d097-25fedf1e2f10"
      },
      "outputs": [
        {
          "output_type": "stream",
          "name": "stdout",
          "text": [
            "Mean Absolute Error: 1.57\n",
            "Mean Absolute Percentage Error: 8.17%\n",
            "Mean Squared Error: 3.8997877227827473\n"
          ]
        }
      ],
      "source": [
        "import pandas as pd\n",
        "import numpy as np\n",
        "from sklearn.model_selection import train_test_split\n",
        "from sklearn.linear_model import LinearRegression\n",
        "from sklearn.metrics import mean_squared_error, r2_score\n",
        "\n",
        "# Load the data\n",
        "df = pd.read_csv('data.csv')\n",
        "\n",
        "# Convert the 'height' and 'weight' columns to numeric values (floats)\n",
        "df['Height'] = pd.to_numeric(df['mean_height'], errors='coerce')\n",
        "df['Weight'] = pd.to_numeric(df['weight'], errors='coerce')\n",
        "\n",
        "# Drop rows with missing values (NaNs)\n",
        "df.dropna(subset=['Height', 'Weight'], inplace=True)\n",
        "\n",
        "# Prepare the feature matrix (X) and the target vector (y)\n",
        "X = df[['Height']].values\n",
        "y = df['Weight'].values\n",
        "\n",
        "# Split the data into training and test sets\n",
        "X_train, X_test, y_train, y_test = train_test_split(X, y, test_size=0.4, random_state=42)\n",
        "\n",
        "# Create and train the linear regression model\n",
        "model = LinearRegression()\n",
        "model.fit(X_train, y_train)\n",
        "\n",
        "# Predict the weights for the test set\n",
        "y_pred = model.predict(X_test)\n",
        "\n",
        "# Calculate the Mean Squared Error\n",
        "mse = mean_squared_error(y_test, y_pred)\n",
        "\n",
        "mae = np.mean(np.abs(y_test - y_pred))\n",
        "print(f'Mean Absolute Error: {mae:.2f}')\n",
        "\n",
        "  # Calculate the mean absolute percentage error (MAPE)\n",
        "mape = np.mean(np.abs((y_test - y_pred) / y_test)) * 100\n",
        "print(f'Mean Absolute Percentage Error: {mape:.2f}%')\n",
        "print(f'Mean Squared Error: {mse}')"
      ]
    }
  ]
}