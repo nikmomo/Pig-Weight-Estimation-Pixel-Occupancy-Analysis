{
  "nbformat": 4,
  "nbformat_minor": 0,
  "metadata": {
    "colab": {
      "provenance": []
    },
    "kernelspec": {
      "name": "python3",
      "display_name": "Python 3"
    },
    "language_info": {
      "name": "python"
    }
  },
  "cells": [
    {
      "cell_type": "code",
      "source": [
        "# Mount your Google Drive to this notebook\n",
        "# The purpose is to allow your code to access your files\n",
        "from google.colab import drive\n",
        "drive.mount('/content/drive')"
      ],
      "metadata": {
        "colab": {
          "base_uri": "https://localhost:8080/"
        },
        "id": "u5qgZ5pY7Bf2",
        "outputId": "8a6f5f11-6c1e-4154-fb24-2f0fa1102982"
      },
      "execution_count": 1,
      "outputs": [
        {
          "output_type": "stream",
          "name": "stdout",
          "text": [
            "Mounted at /content/drive\n"
          ]
        }
      ]
    },
    {
      "cell_type": "code",
      "source": [
        "# Change the directory to your own working directory\n",
        "# You code will be able to read and write files in your working directory\n",
        "# TO DO: If needed, edit the 'chdir' line to provide your Google-Drive directory name\n",
        "import os\n",
        "os.chdir('/content/drive/MyDrive/Colab Notebooks/Project Piggy')"
      ],
      "metadata": {
        "id": "l9ktOPAb7JLR"
      },
      "execution_count": 2,
      "outputs": []
    },
    {
      "cell_type": "code",
      "execution_count": 21,
      "metadata": {
        "colab": {
          "base_uri": "https://localhost:8080/"
        },
        "id": "Z7YFhHiZ41NY",
        "outputId": "d2d27c96-8db3-49be-c1d8-e7898c6c0525"
      },
      "outputs": [
        {
          "output_type": "stream",
          "name": "stdout",
          "text": [
            "Mean Absolute Error: 2.24\n",
            "Mean Absolute Percentage Error: 10.51%\n",
            "Mean Squared Error: 6.118666367537885\n"
          ]
        }
      ],
      "source": [
        "import pandas as pd\n",
        "import numpy as np\n",
        "from sklearn.linear_model import LinearRegression\n",
        "from sklearn.metrics import mean_squared_error\n",
        "\n",
        "# Load the data\n",
        "df = pd.read_csv('data.csv')\n",
        "\n",
        "# Filter the training and testing data based on the 'image_path' pattern\n",
        "# and create a copy to avoid SettingWithCopyWarning\n",
        "train_df = df[df['image_path'].str.contains('3330')].copy()\n",
        "test_df = df[df['image_path'].str.contains('3342')].copy()\n",
        "\n",
        "# Preprocess the training data\n",
        "train_df.loc[:, 'Height'] = pd.to_numeric(train_df['mean_height'], errors='coerce')\n",
        "train_df.loc[:, 'Weight'] = pd.to_numeric(train_df['weight'], errors='coerce')\n",
        "train_df.dropna(subset=['Height', 'Weight'], inplace=True)\n",
        "\n",
        "# Preprocess the testing data\n",
        "test_df.loc[:, 'Height'] = pd.to_numeric(test_df['mean_height'], errors='coerce')\n",
        "test_df.loc[:, 'Weight'] = pd.to_numeric(test_df['weight'], errors='coerce')\n",
        "test_df.dropna(subset=['Height', 'Weight'], inplace=True)\n",
        "# Prepare the feature matrix (X) and the target vector (y) for training data\n",
        "X_train = train_df[['Height']].values\n",
        "y_train = train_df['Weight'].values\n",
        "\n",
        "# Prepare the feature matrix (X) and the target vector (y) for testing data\n",
        "X_test = test_df[['Height']].values\n",
        "y_test = test_df['Weight'].values\n",
        "\n",
        "# Create and train the linear regression model\n",
        "model = LinearRegression()\n",
        "model.fit(X_train, y_train)\n",
        "\n",
        "# Predict the weights for the test set\n",
        "y_pred = model.predict(X_test)\n",
        "\n",
        "# Calculate the Mean Squared Error and Mean Absolute Error\n",
        "mse = mean_squared_error(y_test, y_pred)\n",
        "mae = np.mean(np.abs(y_test - y_pred))\n",
        "mape = np.mean(np.abs((y_test - y_pred) / y_test)) * 100\n",
        "\n",
        "# Print the errors\n",
        "print(f'Mean Absolute Error: {mae:.2f}')\n",
        "print(f'Mean Absolute Percentage Error: {mape:.2f}%')\n",
        "print(f'Mean Squared Error: {mse}')\n"
      ]
    }
  ]
}